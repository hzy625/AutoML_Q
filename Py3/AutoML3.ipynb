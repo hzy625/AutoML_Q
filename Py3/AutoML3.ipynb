{
 "cells": [
  {
   "cell_type": "code",
   "execution_count": 1,
   "id": "8f3be43e",
   "metadata": {},
   "outputs": [
    {
     "name": "stdout",
     "output_type": "stream",
     "text": [
      "C:\\Users\\kz_ke\\Documents\\Masters\\Classes\\DL\\AutoML3\n"
     ]
    }
   ],
   "source": [
    "cd \"/Users/kz_ke/Documents/Masters/Classes/DL/AutoML3\""
   ]
  },
  {
   "cell_type": "code",
   "execution_count": null,
   "id": "40324520",
   "metadata": {},
   "outputs": [],
   "source": [
    "Time series forecast group 1 under security selection\n",
    "Time series forecast group 1 under asset allocation"
   ]
  },
  {
   "cell_type": "code",
   "execution_count": 2,
   "id": "fe5115a5",
   "metadata": {},
   "outputs": [],
   "source": [
    "import q_learner as q_learner\n",
    "import state_string_utils as stringutils\n",
    "import state_enumerator as stateenum\n",
    "import NAS \n",
    "import netparser\n",
    "from tensorflow import keras\n",
    "import numpy as np"
   ]
  },
  {
   "cell_type": "code",
   "execution_count": 3,
   "id": "83eee0b6",
   "metadata": {},
   "outputs": [],
   "source": [
    "_model = __import__('models.mnist',\n",
    "                    globals(),\n",
    "                    locals(),\n",
    "                    ['state_space_parameters', 'hyper_parameters'], \n",
    "                    0)"
   ]
  },
  {
   "cell_type": "code",
   "execution_count": 4,
   "id": "ebf2b3f6",
   "metadata": {},
   "outputs": [],
   "source": [
    "factory = NAS.NAS('mylogs',\n",
    "                  _model.state_space_parameters,\n",
    "                  _model.hyper_parameters,\n",
    "                  1,\n",
    "                  1)"
   ]
  },
  {
   "cell_type": "code",
   "execution_count": 5,
   "id": "b499892d",
   "metadata": {},
   "outputs": [],
   "source": [
    "img_size = 28\n",
    "n_classes = 10\n",
    "\n",
    "#MNIST data image of shape 28*28=784\n",
    "input_size = 784\n",
    "\n",
    "# 0-9 digits recognition (labels)\n",
    "output_size = 10\n",
    "\n",
    "to_categorical = keras.utils.to_categorical \n",
    "\n",
    "#loading mnist dataset and seperating into train, validation and test sets\n",
    "mnist = keras.datasets.mnist\n",
    "(x_train, y_train), (x_test, y_test) = mnist.load_data()\n",
    "x_train = x_train.astype(np.float32)/255\n",
    "x_test = x_test.astype(np.float32)/255\n",
    "y_train = to_categorical(y_train)\n",
    "y_test  = to_categorical(y_test)\n",
    "\n",
    "\n",
    "x_train = np.reshape(x_train, [x_train.shape[0],28,28,1])\n",
    "x_test = np.reshape(x_test, [x_test.shape[0],28,28,1])\n",
    "\n",
    "validatationPct = 0.1\n",
    "n = int(x_train.shape[0] * (1-validatationPct))\n",
    "x_valid = x_train[n:]\n",
    "x_train = x_train[:n]\n",
    "#\n",
    "y_valid = y_train[n:]\n",
    "y_train = y_train[:n]"
   ]
  },
  {
   "cell_type": "code",
   "execution_count": 10,
   "id": "0ba7195b",
   "metadata": {},
   "outputs": [
    {
     "name": "stdout",
     "output_type": "stream",
     "text": [
      "[C(128,1,1), P(2,2), D(1,2), C(64,5,1), SM(10)]\n",
      "1350/1350 [==============================] - 198s 147ms/step - loss: 0.4606 - categorical_accuracy: 0.8722 - val_loss: 0.2549 - val_categorical_accuracy: 0.9292\n",
      "313/313 [==============================] - 9s 28ms/step - loss: 0.2905 - categorical_accuracy: 0.9167\n",
      "None\n"
     ]
    },
    {
     "name": "stderr",
     "output_type": "stream",
     "text": [
      "Traceback (most recent call last):\n",
      "  File \"C:\\Users\\kz_ke\\Documents\\Masters\\Classes\\DL\\AutoML3\\NAS.py\", line 143, in incorporate_trained_net\n",
      "    self.qlearner.sample_replay_for_update()\n",
      "  File \"C:\\Users\\kz_ke\\Documents\\Masters\\Classes\\DL\\AutoML3\\q_learner.py\", line 237, in sample_replay_for_update\n",
      "    self.update_q_value_sequence(state_list, self.accuracy_to_reward(accuracy_best_val))\n",
      "  File \"C:\\Users\\kz_ke\\Documents\\Masters\\Classes\\DL\\AutoML3\\q_learner.py\", line 245, in update_q_value_sequence\n",
      "    self._update_q_value(states[-2], states[-1], termination_reward)\n",
      "  File \"C:\\Users\\kz_ke\\Documents\\Masters\\Classes\\DL\\AutoML3\\q_learner.py\", line 265, in _update_q_value\n",
      "    values[actions.index(action_between_states)] = values[actions.index(action_between_states)] + \\\n",
      "ValueError: <state_enumerator.State object at 0x0000017A58948F10> is not in list\n"
     ]
    }
   ],
   "source": [
    "net, i = factory.generate_new_netork()\n",
    "print(net)\n",
    "p= netparser.parse('net', net)\n",
    "newnet = netparser.parse_network_structure(p)\n",
    "model = keras.Sequential(newnet)\n",
    "\n",
    "callback = keras.callbacks.EarlyStopping(monitor='val_categorical_accuracy', patience=3, restore_best_weights = True)\n",
    "model.compile(\n",
    "            optimizer=keras.optimizers.Adam(lr=1e-4),\n",
    "            loss='categorical_crossentropy',\n",
    "            metrics=[keras.metrics.CategoricalAccuracy()]\n",
    "        )\n",
    "\n",
    "history = model.fit(x_train, y_train, batch_size = 40, epochs =1, callbacks=[callback], validation_data=(x_valid, y_valid))\n",
    "\n",
    "bestval = model.evaluate(x_test, y_test)[1]\n",
    "\n",
    "factory.incorporate_trained_net(net, bestval, 1, [i])"
   ]
  },
  {
   "cell_type": "code",
   "execution_count": 30,
   "id": "6a0e6d74",
   "metadata": {},
   "outputs": [
    {
     "data": {
      "text/plain": [
       "('conv', 3, 256, 5, 1, 8, 0, 0)"
      ]
     },
     "execution_count": 30,
     "metadata": {},
     "output_type": "execute_result"
    }
   ],
   "source": [
    "states = factory.qlearner.stringutils.convert_model_string_to_states(netparser.parse('net', net))\n",
    "states = factory.qlearner.stringutils.remove_drop_out_states(states)\n",
    "bucket = [factory.qlearner.enum.bucket_state(state) for state in states]\n",
    "bucket[3].as_tuple()"
   ]
  },
  {
   "cell_type": "code",
   "execution_count": 20,
   "id": "0ac96cf5",
   "metadata": {},
   "outputs": [
    {
     "data": {
      "text/plain": [
       "'[GAP(10), SM(10)]'"
      ]
     },
     "execution_count": 20,
     "metadata": {},
     "output_type": "execute_result"
    }
   ],
   "source": [
    "net, i = factory.generate_new_netork()\n",
    "net"
   ]
  },
  {
   "cell_type": "code",
   "execution_count": 21,
   "id": "34e3b4db",
   "metadata": {},
   "outputs": [],
   "source": [
    "p= netparser.parse('net', net)\n",
    "newnet = netparser.parse_network_structure(p)"
   ]
  },
  {
   "cell_type": "code",
   "execution_count": 22,
   "id": "1249a65e",
   "metadata": {},
   "outputs": [
    {
     "data": {
      "text/plain": [
       "[<keras.layers.pooling.GlobalAveragePooling2D at 0x1e287d2ec40>,\n",
       " <keras.layers.core.Dense at 0x1e287f09e80>]"
      ]
     },
     "execution_count": 22,
     "metadata": {},
     "output_type": "execute_result"
    }
   ],
   "source": [
    "newnet"
   ]
  },
  {
   "cell_type": "code",
   "execution_count": 25,
   "id": "bc6d5351",
   "metadata": {},
   "outputs": [],
   "source": [
    "model = keras.Sequential(newnet)"
   ]
  },
  {
   "cell_type": "code",
   "execution_count": 28,
   "id": "98d39c40",
   "metadata": {},
   "outputs": [],
   "source": [
    "model.compile(\n",
    "            optimizer=keras.optimizers.Adam(lr=1e-4),\n",
    "            loss='categorical_crossentropy',\n",
    "            metrics=[keras.metrics.CategoricalAccuracy()]\n",
    "        )"
   ]
  },
  {
   "cell_type": "code",
   "execution_count": 33,
   "id": "4be72028",
   "metadata": {},
   "outputs": [
    {
     "name": "stdout",
     "output_type": "stream",
     "text": [
      "Epoch 1/10\n",
      "1500/1500 [==============================] - 8s 4ms/step - loss: 2.3073 - categorical_accuracy: 0.1124\n",
      "Epoch 2/10\n",
      "1500/1500 [==============================] - 5s 4ms/step - loss: 2.3055 - categorical_accuracy: 0.1124\n",
      "Epoch 3/10\n",
      "1500/1500 [==============================] - 5s 3ms/step - loss: 2.3039 - categorical_accuracy: 0.1131\n",
      "Epoch 4/10\n",
      "1500/1500 [==============================] - 4s 3ms/step - loss: 2.3025 - categorical_accuracy: 0.1141\n",
      "Epoch 5/10\n",
      "1500/1500 [==============================] - 4s 3ms/step - loss: 2.3012 - categorical_accuracy: 0.1167\n",
      "Epoch 6/10\n",
      "1500/1500 [==============================] - 3s 2ms/step - loss: 2.3000 - categorical_accuracy: 0.1205\n",
      "Epoch 7/10\n",
      "1500/1500 [==============================] - 4s 3ms/step - loss: 2.2987 - categorical_accuracy: 0.1231\n",
      "Epoch 8/10\n",
      "1500/1500 [==============================] - 4s 3ms/step - loss: 2.2975 - categorical_accuracy: 0.1259\n",
      "Epoch 9/10\n",
      "1500/1500 [==============================] - 3s 2ms/step - loss: 2.2963 - categorical_accuracy: 0.1298\n",
      "Epoch 10/10\n",
      "1500/1500 [==============================] - 4s 3ms/step - loss: 2.2951 - categorical_accuracy: 0.1344\n"
     ]
    },
    {
     "data": {
      "text/plain": [
       "<keras.callbacks.History at 0x1e2892659d0>"
      ]
     },
     "execution_count": 33,
     "metadata": {},
     "output_type": "execute_result"
    }
   ],
   "source": [
    "model.fit(x_train, y_train, batch_size = 40, epochs =10)"
   ]
  },
  {
   "cell_type": "code",
   "execution_count": 35,
   "id": "6c6168af",
   "metadata": {},
   "outputs": [
    {
     "name": "stdout",
     "output_type": "stream",
     "text": [
      "313/313 [==============================] - 1s 3ms/step - loss: 2.2943 - categorical_accuracy: 0.1379\n"
     ]
    }
   ],
   "source": [
    "bestval = model.evaluate(x_test, y_test)[1]"
   ]
  },
  {
   "cell_type": "code",
   "execution_count": 53,
   "id": "403b4459",
   "metadata": {},
   "outputs": [
    {
     "data": {
      "text/plain": [
       "0.9860000014305115"
      ]
     },
     "execution_count": 53,
     "metadata": {},
     "output_type": "execute_result"
    }
   ],
   "source": [
    "bestval"
   ]
  },
  {
   "cell_type": "code",
   "execution_count": 37,
   "id": "ee849077",
   "metadata": {},
   "outputs": [
    {
     "data": {
      "text/plain": [
       "'[GAP(10), SM(10)]'"
      ]
     },
     "execution_count": 37,
     "metadata": {},
     "output_type": "execute_result"
    }
   ],
   "source": [
    "net"
   ]
  },
  {
   "cell_type": "code",
   "execution_count": 47,
   "id": "ebd21eff",
   "metadata": {},
   "outputs": [
    {
     "name": "stdout",
     "output_type": "stream",
     "text": [
      "Incorporated net, acc: 0.137900, net: [GAP(10), SM(10)]\n"
     ]
    }
   ],
   "source": [
    "factory.incorporate_trained_net(net, bestval, 1, [1])"
   ]
  },
  {
   "cell_type": "code",
   "execution_count": 49,
   "id": "47f23957",
   "metadata": {},
   "outputs": [
    {
     "data": {
      "text/html": [
       "<div>\n",
       "<style scoped>\n",
       "    .dataframe tbody tr th:only-of-type {\n",
       "        vertical-align: middle;\n",
       "    }\n",
       "\n",
       "    .dataframe tbody tr th {\n",
       "        vertical-align: top;\n",
       "    }\n",
       "\n",
       "    .dataframe thead th {\n",
       "        text-align: right;\n",
       "    }\n",
       "</style>\n",
       "<table border=\"1\" class=\"dataframe\">\n",
       "  <thead>\n",
       "    <tr style=\"text-align: right;\">\n",
       "      <th></th>\n",
       "      <th>net</th>\n",
       "      <th>accuracy_best_val</th>\n",
       "      <th>epsilon</th>\n",
       "      <th>time_finished</th>\n",
       "    </tr>\n",
       "  </thead>\n",
       "  <tbody>\n",
       "    <tr>\n",
       "      <th>0</th>\n",
       "      <td>[GAP(10), SM(10)]</td>\n",
       "      <td>0.1379</td>\n",
       "      <td>1</td>\n",
       "      <td>1.637442e+09</td>\n",
       "    </tr>\n",
       "  </tbody>\n",
       "</table>\n",
       "</div>"
      ],
      "text/plain": [
       "                 net  accuracy_best_val epsilon  time_finished\n",
       "0  [GAP(10), SM(10)]             0.1379       1   1.637442e+09"
      ]
     },
     "execution_count": 49,
     "metadata": {},
     "output_type": "execute_result"
    }
   ],
   "source": [
    "factory.replay_dictionary"
   ]
  },
  {
   "cell_type": "code",
   "execution_count": 46,
   "id": "acd05c9e",
   "metadata": {},
   "outputs": [
    {
     "data": {
      "text/plain": [
       "'[GAP(10), SM(10)]'"
      ]
     },
     "execution_count": 46,
     "metadata": {},
     "output_type": "execute_result"
    }
   ],
   "source": [
    "net"
   ]
  },
  {
   "cell_type": "code",
   "execution_count": 65,
   "id": "056a8bc6",
   "metadata": {},
   "outputs": [
    {
     "data": {
      "text/plain": [
       "(60000, 28, 28, 1)"
      ]
     },
     "execution_count": 65,
     "metadata": {},
     "output_type": "execute_result"
    }
   ],
   "source": [
    "x_train.shape\n"
   ]
  },
  {
   "cell_type": "code",
   "execution_count": null,
   "id": "d0c762d8",
   "metadata": {},
   "outputs": [],
   "source": []
  }
 ],
 "metadata": {
  "kernelspec": {
   "display_name": "Python 3 (ipykernel)",
   "language": "python",
   "name": "python3"
  },
  "language_info": {
   "codemirror_mode": {
    "name": "ipython",
    "version": 3
   },
   "file_extension": ".py",
   "mimetype": "text/x-python",
   "name": "python",
   "nbconvert_exporter": "python",
   "pygments_lexer": "ipython3",
   "version": "3.8.11"
  }
 },
 "nbformat": 4,
 "nbformat_minor": 5
}
